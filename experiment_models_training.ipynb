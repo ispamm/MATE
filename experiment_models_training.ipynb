{
 "cells": [
  {
   "cell_type": "markdown",
   "source": [
    "# Model training\n",
    "\n",
    "This notebook can be used to train the models used for the replication experiment. The notebook makes heavy use of predefined configuration files that describe the parameter setting of each model.\n",
    "\n",
    "**To replace the pretrained models in the replication study** you need to copy the trained model from `checkpoints` to `Explanation/models/pretrained/<_model>/<_dataset>`. Where \\_model and \\_dataset are defined as in the code below. "
   ],
   "metadata": {}
  },
  {
   "cell_type": "code",
   "execution_count": null,
   "source": [
    "import torch\n",
    "device = torch.device('cuda' if torch.cuda.is_available() else 'cpu')\n",
    "import numpy as np\n",
    "from ExplanationEvaluation.configs.selector import Selector\n",
    "from ExplanationEvaluation.tasks.training import meta_train_node, meta_train_graph"
   ],
   "outputs": [],
   "metadata": {}
  },
  {
   "cell_type": "code",
   "execution_count": null,
   "source": [
    "_dataset = 'bashapes' # One of: bashapes, bacommunity, treecycles, treegrids, ba2motifs, mutag\n",
    "_folder = 'replication'\n",
    "_model = 'gnn'\n",
    "config_path = f\"./ExplanationEvaluation/configs/{_folder}/models/model_{_model}_{_dataset}.json\"\n",
    "\n",
    "config = Selector(config_path)\n",
    "extension = (_folder == 'extension')\n",
    "\n",
    "config = Selector(config_path).args\n",
    "\n",
    "torch.manual_seed(config.model.seed)\n",
    "torch.cuda.manual_seed(config.model.seed)\n",
    "np.random.seed(config.model.seed)"
   ],
   "outputs": [],
   "metadata": {}
  },
  {
   "cell_type": "code",
   "execution_count": null,
   "source": [
    "_dataset = config.model.dataset\n",
    "_explainer = config.model.paper\n",
    "\n",
    "if _dataset[:3] == \"syn\":\n",
    "    meta_train_node(_dataset, _explainer, config.model, device)\n",
    "elif _dataset == \"ba2\" or _dataset == \"mutag\":\n",
    "    meta_train_graph(_dataset, _explainer, config.model, device)"
   ],
   "outputs": [],
   "metadata": {}
  }
 ],
 "metadata": {
  "kernelspec": {
   "display_name": "Python 3",
   "language": "python",
   "name": "python3"
  },
  "language_info": {
   "codemirror_mode": {
    "name": "ipython",
    "version": 3
   },
   "file_extension": ".py",
   "mimetype": "text/x-python",
   "name": "python",
   "nbconvert_exporter": "python",
   "pygments_lexer": "ipython3",
   "version": "3.8.2"
  }
 },
 "nbformat": 4,
 "nbformat_minor": 4
}